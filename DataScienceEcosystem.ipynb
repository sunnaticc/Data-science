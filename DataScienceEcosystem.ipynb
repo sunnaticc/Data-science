{
 "cells": [
  {
   "cell_type": "markdown",
   "id": "1b91715e",
   "metadata": {},
   "source": [
    "## Data Science Tools and Ecosystem"
   ]
  },
  {
   "cell_type": "markdown",
   "id": "5d56f01f",
   "metadata": {},
   "source": [
    "*Introduction*\n",
    "\n",
    "in this notebook, Data science Tools  and Ecosystem are summarized."
   ]
  },
  {
   "cell_type": "markdown",
   "id": "aaeb3e34",
   "metadata": {},
   "source": [
    "some of the popular languages that data scientists use are: \n",
    "1. python\n",
    "2. R\n",
    "3. sql"
   ]
  },
  {
   "cell_type": "markdown",
   "id": "acd3e8ba",
   "metadata": {},
   "source": [
    "some of the commonly used libraries used by data scientists include:\n",
    "1. numpy\n",
    "2. pandas\n",
    "3. sckit-learn"
   ]
  },
  {
   "cell_type": "markdown",
   "id": "7d56c301",
   "metadata": {},
   "source": [
    "Data Science Tools\n",
    "googlecolabs, jupyter notebook, ibm"
   ]
  },
  {
   "cell_type": "markdown",
   "id": "88870bc2",
   "metadata": {},
   "source": [
    "## **below are a few examples of evaluating arithmetic expressions in python**\n"
   ]
  },
  {
   "cell_type": "code",
   "execution_count": 11,
   "id": "05a7d811",
   "metadata": {},
   "outputs": [
    {
     "data": {
      "text/plain": [
       "17"
      ]
     },
     "execution_count": 11,
     "metadata": {},
     "output_type": "execute_result"
    }
   ],
   "source": [
    "#this a simple arithmetic expression to multiply then add integers \n",
    "(3*4)+5"
   ]
  },
  {
   "cell_type": "code",
   "execution_count": 12,
   "id": "14c2b3f5",
   "metadata": {},
   "outputs": [
    {
     "data": {
      "text/plain": [
       "3.3333333333333335"
      ]
     },
     "execution_count": 12,
     "metadata": {},
     "output_type": "execute_result"
    }
   ],
   "source": [
    "#this will convert 200 minutes to hours by diving by 60\n",
    "200/60"
   ]
  },
  {
   "cell_type": "markdown",
   "id": "c5e50c57",
   "metadata": {},
   "source": [
    "**Objectives:**\n",
    "\n",
    "*  introduction\n",
    "*  arithmmetic\n",
    "*  convertion\n",
    "*  data science tools\n",
    "*  data science language"
   ]
  },
  {
   "cell_type": "markdown",
   "id": "6f6a767d",
   "metadata": {},
   "source": [
    "## AUTHOR\n",
    "SANNI HABEEBULLAH"
   ]
  },
  {
   "cell_type": "code",
   "execution_count": null,
   "id": "5375929e",
   "metadata": {},
   "outputs": [],
   "source": []
  }
 ],
 "metadata": {
  "kernelspec": {
   "display_name": "Python 3 (ipykernel)",
   "language": "python",
   "name": "python3"
  },
  "language_info": {
   "codemirror_mode": {
    "name": "ipython",
    "version": 3
   },
   "file_extension": ".py",
   "mimetype": "text/x-python",
   "name": "python",
   "nbconvert_exporter": "python",
   "pygments_lexer": "ipython3",
   "version": "3.9.13"
  }
 },
 "nbformat": 4,
 "nbformat_minor": 5
}
